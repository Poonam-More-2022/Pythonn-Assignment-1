{
 "cells": [
  {
   "cell_type": "markdown",
   "id": "10b2dfca",
   "metadata": {},
   "source": [
    "# Assignment 1 Submitted by Poonam More"
   ]
  },
  {
   "cell_type": "markdown",
   "id": "2a369189",
   "metadata": {},
   "source": [
    "### Q1. Write a Python program to calculate the length of a string"
   ]
  },
  {
   "cell_type": "code",
   "execution_count": null,
   "id": "81446a4e",
   "metadata": {},
   "outputs": [],
   "source": []
  },
  {
   "cell_type": "code",
   "execution_count": null,
   "id": "b3cddbcc",
   "metadata": {},
   "outputs": [],
   "source": []
  },
  {
   "cell_type": "markdown",
   "id": "b2576840",
   "metadata": {},
   "source": [
    "### Q2. Python Program to calculate the square root."
   ]
  },
  {
   "cell_type": "code",
   "execution_count": null,
   "id": "896b0116",
   "metadata": {},
   "outputs": [],
   "source": []
  }
 ],
 "metadata": {
  "kernelspec": {
   "display_name": "Python 3 (ipykernel)",
   "language": "python",
   "name": "python3"
  },
  "language_info": {
   "codemirror_mode": {
    "name": "ipython",
    "version": 3
   },
   "file_extension": ".py",
   "mimetype": "text/x-python",
   "name": "python",
   "nbconvert_exporter": "python",
   "pygments_lexer": "ipython3",
   "version": "3.8.13"
  }
 },
 "nbformat": 4,
 "nbformat_minor": 5
}
